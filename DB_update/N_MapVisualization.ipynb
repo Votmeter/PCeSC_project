{
 "cells": [
  {
   "cell_type": "code",
   "execution_count": null,
   "metadata": {},
   "outputs": [],
   "source": [
    "import json\n",
    "dbtraj = \"json/ex.json\"\n",
    "with open(dbtraj, \"r\") as f:\n",
    "    js = json.load(f)\n",
    "# print(json.dumps(db[1], indent = 4))\n"
   ]
  },
  {
   "cell_type": "markdown",
   "metadata": {},
   "source": [
    "technically every information is stored in the section 'features' of the initial json, if more than one trajectory is stored in the uploaded json, still, all the infos are in the 'features' part  We want to check how many documents we are uploading by controlling that section"
   ]
  },
  {
   "cell_type": "code",
   "execution_count": null,
   "metadata": {},
   "outputs": [],
   "source": [
    "print(json.dumps(js.get('features')[0], indent = 4))"
   ]
  },
  {
   "cell_type": "code",
   "execution_count": null,
   "metadata": {},
   "outputs": [],
   "source": [
    "for d in range(len(js.get('features'))):\n",
    "    print(js.get('features')[d].get('geometry').get('coordinates'))"
   ]
  },
  {
   "cell_type": "code",
   "execution_count": 15,
   "metadata": {},
   "outputs": [
    {
     "name": "stdout",
     "output_type": "stream",
     "text": [
      "ok\n"
     ]
    }
   ],
   "source": [
    "from google.cloud import firestore\n",
    "db = 'tesinapcesc'\n",
    "db = firestore.Client.from_service_account_json(\"../keys/nico_pk.json\", database = db)\n",
    "print('ok')"
   ]
  },
  {
   "cell_type": "code",
   "execution_count": 17,
   "metadata": {},
   "outputs": [],
   "source": [
    "coll = \"000\"\n",
    "doc = \"0\""
   ]
  },
  {
   "cell_type": "code",
   "execution_count": 25,
   "metadata": {},
   "outputs": [
    {
     "data": {
      "text/plain": [
       "True"
      ]
     },
     "execution_count": 25,
     "metadata": {},
     "output_type": "execute_result"
    }
   ],
   "source": [
    "# Funzione per verificare se una collezione esiste\n",
    "def collection_exists(collection_name):\n",
    "    collections = db.collections()\n",
    "    for collection in collections:\n",
    "        if collection.id == collection_name:\n",
    "            return True\n",
    "    return False\n",
    "\n",
    "# Funzione per verificare se un documento esiste in una collezione\n",
    "def document_exists(collection_name, document_name):\n",
    "    doc_ref = db.collection(collection_name).document(document_name)\n",
    "    doc = doc_ref.get()\n",
    "    return doc.exists\n",
    "\n",
    "document_exists(coll, \"d\")\n"
   ]
  }
 ],
 "metadata": {
  "kernelspec": {
   "display_name": "Python 3 (ipykernel)",
   "language": "python",
   "name": "python3"
  },
  "language_info": {
   "codemirror_mode": {
    "name": "ipython",
    "version": 3
   },
   "file_extension": ".py",
   "mimetype": "text/x-python",
   "name": "python",
   "nbconvert_exporter": "python",
   "pygments_lexer": "ipython3",
   "version": "3.11.2"
  }
 },
 "nbformat": 4,
 "nbformat_minor": 4
}
