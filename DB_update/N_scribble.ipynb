{
 "cells": [
  {
   "cell_type": "markdown",
   "metadata": {},
   "source": [
    "imprelement the early format to the db firestore"
   ]
  },
  {
   "cell_type": "code",
   "execution_count": 16,
   "metadata": {},
   "outputs": [
    {
     "name": "stdout",
     "output_type": "stream",
     "text": [
      "5\n"
     ]
    }
   ],
   "source": [
    "from google.cloud import firestore\n",
    "import json\n",
    "\n",
    "db = '(default)'\n",
    "db = firestore.Client.from_service_account_json(\"../keys/nico_pk.json\",\n",
    "                                                 database = db)\n",
    "'OK'\n",
    "collection_name = \"000\"\n",
    "docs = db.collection(collection_name).stream()\n",
    "\n",
    "for doc in docs:\n",
    "    print(doc.id)"
   ]
  },
  {
   "cell_type": "code",
   "execution_count": 4,
   "metadata": {},
   "outputs": [
    {
     "name": "stdout",
     "output_type": "stream",
     "text": [
      "[[9.642123621792251, 45.07094312259065], [10.012668713975984, 44.54462989584778], [10.79555754917098, 44.52094589702986], [10.82585891425154, 44.03933106725921], [10.83503330439683, 43.49718474585413]]\n"
     ]
    }
   ],
   "source": [
    "data = {\n",
    "  \"type\": \"FeatureCollection\",\n",
    "  \"features\": [\n",
    "    {\n",
    "      \"type\": \"Feature\",\n",
    "      \"properties\": {},\n",
    "      \"geometry\": {\n",
    "        \"coordinates\": [\n",
    "          [\n",
    "            9.642123621792251,\n",
    "            45.07094312259065\n",
    "          ],\n",
    "          [\n",
    "            10.012668713975984,\n",
    "            44.54462989584778\n",
    "          ],\n",
    "          [\n",
    "            10.79555754917098,\n",
    "            44.52094589702986\n",
    "          ],\n",
    "          [\n",
    "            10.82585891425154,\n",
    "            44.03933106725921\n",
    "          ],\n",
    "          [\n",
    "            10.83503330439683,\n",
    "            43.49718474585413\n",
    "          ]\n",
    "        ],\n",
    "        \"type\": \"LineString\"\n",
    "      }\n",
    "    }\n",
    "  ]\n",
    "}\n",
    "\n",
    "print(data.get('features')[0].get('geometry').get('coordinates'))\n"
   ]
  },
  {
   "cell_type": "code",
   "execution_count": 20,
   "metadata": {},
   "outputs": [],
   "source": [
    "locolls = [0,1,2]\n",
    "lodocs = [['a', 'b', 'c'],['d', 'e', 'f'],['g', 'h', 'i']]\n",
    "locoords = [[[0, 0], [1, 1], [2, 2]], [[3, 3], [4, 4], [5, 5]], [[6, 6], [7, 7], [8, 8]]]\n",
    "for coll in range(len(locolls)):\n",
    "    # Convert the collection identifier to a string\n",
    "    collection_id = str(locolls[coll])\n",
    "    \n",
    "    # Loop through each document in the current collection\n",
    "    for doc in range(len(lodocs[coll])):\n",
    "        # Create a reference to the current document in Firestore\n",
    "        doc_ref = db.collection(collection_id).document(lodocs[coll][doc])\n",
    "        \n",
    "        # Prepare the data to be stored in Firestore\n",
    "        x = {\n",
    "            \"lat\": locoords[coll][doc][0],\n",
    "            \"long\": locoords[coll][doc][1]\n",
    "        }\n",
    "        \n",
    "        # Set the data in Firestore for the current document\n",
    "        doc_ref.set(x)\n",
    "\n",
    "        "
   ]
  },
  {
   "cell_type": "markdown",
   "metadata": {},
   "source": [
    "New hypothetical format"
   ]
  },
  {
   "cell_type": "code",
   "execution_count": null,
   "metadata": {},
   "outputs": [],
   "source": [
    "from google.cloud import firestore\n",
    "import json\n",
    "\n",
    "db = 'tesinapcesc'\n",
    "db = firestore.Client.from_service_account_json(\"../keys/nico_pk.json\",\n",
    "                                                 database = db)"
   ]
  },
  {
   "cell_type": "code",
   "execution_count": null,
   "metadata": {},
   "outputs": [],
   "source": [
    "coll = \"gps\"\n",
    "lodocs = ['a', 'b', 'c']\n",
    "\n",
    "for coll in range(len(locolls)):\n",
    "    # Convert the collection identifier to a string\n",
    "    collection_id = str(locolls[coll])\n",
    "    \n",
    "    # Loop through each document in the current collection\n",
    "    for doc in range(len(lodocs[coll])):\n",
    "        # Create a reference to the current document in Firestore\n",
    "        doc_ref = db.collection(collection_id).document(lodocs[coll][doc])\n",
    "        \n",
    "        # Prepare the data to be stored in Firestore\n",
    "        x = {\n",
    "            \"lat\": locoords[coll][doc][0],\n",
    "            \"long\": locoords[coll][doc][1]\n",
    "        }\n",
    "        \n",
    "        # Set the data in Firestore for the current document\n",
    "        doc_ref.set(x)"
   ]
  },
  {
   "cell_type": "code",
   "execution_count": 2,
   "metadata": {},
   "outputs": [
    {
     "data": {
      "text/plain": [
       "(89869, 4)"
      ]
     },
     "execution_count": 2,
     "metadata": {},
     "output_type": "execute_result"
    }
   ],
   "source": [
    "import pandas as pd\n",
    "import numpy as np\n",
    "\n",
    "\n",
    "gps = pd.read_csv(\"../document/gps_Updated.csv\",index_col=0)\n",
    "# gps = gps.loc[:, [\"individual-local-identifier\", \n",
    "#                   \"individual-taxon-canonical-name\", \n",
    "#                   \"sensor-type\", \n",
    "#                   \"location-long\", \n",
    "                #   \"location-lat\"]]\n",
    "gps = gps.drop(columns='event-id')\n",
    "gps.rename(columns={\n",
    "    'timestamp': 'time',\n",
    "    'location-long': 'long',\n",
    "    'location-lat': 'lat',\n",
    "    'individual-local-identifier': 'animal-id'\n",
    "}, inplace=True)\n",
    "gps.shape\n"
   ]
  },
  {
   "cell_type": "code",
   "execution_count": 3,
   "metadata": {},
   "outputs": [
    {
     "data": {
      "text/plain": [
       "(127, 2)"
      ]
     },
     "execution_count": 3,
     "metadata": {},
     "output_type": "execute_result"
    }
   ],
   "source": [
    "rd = pd.read_csv(\"../document/reference-data.csv\")\n",
    "rd = rd.loc[:, ['animal-id', 'manipulation-comments']]\n",
    "rd.shape"
   ]
  },
  {
   "cell_type": "code",
   "execution_count": 4,
   "metadata": {},
   "outputs": [],
   "source": [
    "merged_df = pd.merge(gps, rd, on='animal-id', how='inner')\n",
    "\n",
    "# Supponendo che il DataFrame merged_df sia il risultato del merge tra gps e rd\n",
    "merged_df['coordinates'] = merged_df.apply(lambda row: [row['lat'], row['long']], axis=1)\n",
    "merged_df = merged_df.drop(columns=['lat', 'long'])\n",
    "merged_df.rename(columns={\n",
    "    'animal-id': 'id',\n",
    "    'manipulation-comments': 'comments',\n",
    "}, inplace=True)\n",
    "merged_df = merged_df.loc[:,['id', 'time', 'coordinates', 'comments']]"
   ]
  },
  {
   "cell_type": "markdown",
   "metadata": {},
   "source": [
    "# Costruzione della struttura per i grafici ragazze"
   ]
  },
  {
   "cell_type": "code",
   "execution_count": 36,
   "metadata": {},
   "outputs": [
    {
     "data": {
      "text/html": [
       "<div>\n",
       "<style scoped>\n",
       "    .dataframe tbody tr th:only-of-type {\n",
       "        vertical-align: middle;\n",
       "    }\n",
       "\n",
       "    .dataframe tbody tr th {\n",
       "        vertical-align: top;\n",
       "    }\n",
       "\n",
       "    .dataframe thead th {\n",
       "        text-align: right;\n",
       "    }\n",
       "</style>\n",
       "<table border=\"1\" class=\"dataframe\">\n",
       "  <thead>\n",
       "    <tr style=\"text-align: right;\">\n",
       "      <th></th>\n",
       "      <th>id</th>\n",
       "      <th>mod</th>\n",
       "      <th>Origine</th>\n",
       "    </tr>\n",
       "  </thead>\n",
       "  <tbody>\n",
       "    <tr>\n",
       "      <th>1</th>\n",
       "      <td>91733A</td>\n",
       "      <td>OLFAC</td>\n",
       "      <td>Helgoland</td>\n",
       "    </tr>\n",
       "    <tr>\n",
       "      <th>11</th>\n",
       "      <td>91744A</td>\n",
       "      <td>control</td>\n",
       "      <td>Helgoland</td>\n",
       "    </tr>\n",
       "    <tr>\n",
       "      <th>12</th>\n",
       "      <td>91745A</td>\n",
       "      <td>OLFAC</td>\n",
       "      <td>Helgoland</td>\n",
       "    </tr>\n",
       "    <tr>\n",
       "      <th>17</th>\n",
       "      <td>91750A</td>\n",
       "      <td>TRIGEM</td>\n",
       "      <td>Helgoland</td>\n",
       "    </tr>\n",
       "    <tr>\n",
       "      <th>22</th>\n",
       "      <td>91756A</td>\n",
       "      <td>OLFAC</td>\n",
       "      <td>Helgoland</td>\n",
       "    </tr>\n",
       "  </tbody>\n",
       "</table>\n",
       "</div>"
      ],
      "text/plain": [
       "        id      mod    Origine\n",
       "1   91733A    OLFAC  Helgoland\n",
       "11  91744A  control  Helgoland\n",
       "12  91745A    OLFAC  Helgoland\n",
       "17  91750A   TRIGEM  Helgoland\n",
       "22  91756A    OLFAC  Helgoland"
      ]
     },
     "execution_count": 36,
     "metadata": {},
     "output_type": "execute_result"
    }
   ],
   "source": [
    "from google.cloud import firestore\n",
    "import json\n",
    "import pandas as pd\n",
    "import numpy as np\n",
    "\n",
    "db = 'tesinapcesc'\n",
    "db = firestore.Client.from_service_account_json(\"../keys/nico_pk.json\",\n",
    "                                                 database = db)\n",
    "\n",
    "# Recupera tutti i documenti dalla collezione \"references\"\n",
    "docs = db.collection(\"references\").stream()\n",
    "\n",
    "# Prepara una lista per contenere i dati\n",
    "data = []\n",
    "\n",
    "# Estrarre i dati dai documenti\n",
    "for doc in docs:\n",
    "    doc_id = doc.id\n",
    "    doc_dict = doc.to_dict()\n",
    "    mod = doc_dict.get(\"mod\", \"\")\n",
    "    tras = doc_dict.get(\"tras\", \"\")\n",
    "    data.append([doc_id, mod, tras])\n",
    "\n",
    "# Creare il DataFrame di pandas\n",
    "rf = pd.DataFrame(data, columns=[\"id\", \"mod\", \"tras\"])\n",
    "# Determiniamo l'origine degli uccelli basandosi su: 'comments'\n",
    "rf['Origine'] = rf['tras'].apply(\n",
    "    lambda x: 'Helgoland' if 'Heligoland' in x else 'Kazan' if 'Kazan' in x else 'Unknown')\n",
    "\n",
    "# Filtra i dati per includere solo gli uccelli che hanno realizzato lo spostamento\n",
    "rf = rf[rf['Origine'] != 'Unknown']\n",
    "rf.drop(columns='tras', inplace=True)\n",
    "# print(rf.shape)\n",
    "# rf.head()\n",
    "\n",
    "# Visualizza il DataFrame\n",
    "rf.head()"
   ]
  },
  {
   "cell_type": "code",
   "execution_count": 37,
   "metadata": {},
   "outputs": [
    {
     "data": {
      "text/plain": [
       "(42615, 4)"
      ]
     },
     "execution_count": 37,
     "metadata": {},
     "output_type": "execute_result"
    }
   ],
   "source": [
    "# Recupera tutte le collezioni\n",
    "collections = db.collections()\n",
    "\n",
    "# Prepara una lista per contenere i dati\n",
    "data = []\n",
    "\n",
    "# Filtra e processa solo le collezioni che iniziano con '9'\n",
    "for collection in collections:\n",
    "    collection_name = collection.id\n",
    "    if collection_name in rf['id'].values:\n",
    "        # Recupera tutti i documenti dalla collezione\n",
    "        docs = db.collection(collection_name).stream()\n",
    "        for doc in docs:\n",
    "            doc_id = doc.id\n",
    "            doc_dict = doc.to_dict()\n",
    "            lat = doc_dict.get(\"lat\", \"\")\n",
    "            long = doc_dict.get(\"long\", \"\")\n",
    "            data.append([collection_name, doc_id, lat, long])\n",
    "\n",
    "# Creare il DataFrame di pandas\n",
    "df = pd.DataFrame(data, columns=[\"id\", \"event-id\", \"lat\", \"long\"])\n",
    "df.shape"
   ]
  },
  {
   "cell_type": "code",
   "execution_count": 38,
   "metadata": {},
   "outputs": [
    {
     "data": {
      "text/html": [
       "<div>\n",
       "<style scoped>\n",
       "    .dataframe tbody tr th:only-of-type {\n",
       "        vertical-align: middle;\n",
       "    }\n",
       "\n",
       "    .dataframe tbody tr th {\n",
       "        vertical-align: top;\n",
       "    }\n",
       "\n",
       "    .dataframe thead th {\n",
       "        text-align: right;\n",
       "    }\n",
       "</style>\n",
       "<table border=\"1\" class=\"dataframe\">\n",
       "  <thead>\n",
       "    <tr style=\"text-align: right;\">\n",
       "      <th></th>\n",
       "      <th>id</th>\n",
       "      <th>event-id</th>\n",
       "      <th>lat</th>\n",
       "      <th>long</th>\n",
       "      <th>mod</th>\n",
       "      <th>Origine</th>\n",
       "    </tr>\n",
       "  </thead>\n",
       "  <tbody>\n",
       "    <tr>\n",
       "      <th>0</th>\n",
       "      <td>91733A</td>\n",
       "      <td>1082636186</td>\n",
       "      <td>54.18600</td>\n",
       "      <td>7.91883</td>\n",
       "      <td>OLFAC</td>\n",
       "      <td>Helgoland</td>\n",
       "    </tr>\n",
       "    <tr>\n",
       "      <th>1</th>\n",
       "      <td>91733A</td>\n",
       "      <td>1082636187</td>\n",
       "      <td>54.18567</td>\n",
       "      <td>7.91917</td>\n",
       "      <td>OLFAC</td>\n",
       "      <td>Helgoland</td>\n",
       "    </tr>\n",
       "    <tr>\n",
       "      <th>2</th>\n",
       "      <td>91733A</td>\n",
       "      <td>1082636188</td>\n",
       "      <td>54.18533</td>\n",
       "      <td>7.91500</td>\n",
       "      <td>OLFAC</td>\n",
       "      <td>Helgoland</td>\n",
       "    </tr>\n",
       "    <tr>\n",
       "      <th>3</th>\n",
       "      <td>91733A</td>\n",
       "      <td>1082636189</td>\n",
       "      <td>54.18583</td>\n",
       "      <td>7.91917</td>\n",
       "      <td>OLFAC</td>\n",
       "      <td>Helgoland</td>\n",
       "    </tr>\n",
       "    <tr>\n",
       "      <th>4</th>\n",
       "      <td>91733A</td>\n",
       "      <td>1082636190</td>\n",
       "      <td>54.33383</td>\n",
       "      <td>8.64117</td>\n",
       "      <td>OLFAC</td>\n",
       "      <td>Helgoland</td>\n",
       "    </tr>\n",
       "  </tbody>\n",
       "</table>\n",
       "</div>"
      ],
      "text/plain": [
       "       id    event-id       lat     long    mod    Origine\n",
       "0  91733A  1082636186  54.18600  7.91883  OLFAC  Helgoland\n",
       "1  91733A  1082636187  54.18567  7.91917  OLFAC  Helgoland\n",
       "2  91733A  1082636188  54.18533  7.91500  OLFAC  Helgoland\n",
       "3  91733A  1082636189  54.18583  7.91917  OLFAC  Helgoland\n",
       "4  91733A  1082636190  54.33383  8.64117  OLFAC  Helgoland"
      ]
     },
     "execution_count": 38,
     "metadata": {},
     "output_type": "execute_result"
    }
   ],
   "source": [
    "merged = df.merge(rf, on= 'id', how='inner')\n",
    "merged.head()"
   ]
  },
  {
   "cell_type": "code",
   "execution_count": 31,
   "metadata": {},
   "outputs": [],
   "source": [
    "# Funzione che calcola la distanza tra due punti sulla superficie della Terra usando la formula di Haversine\n",
    "def haversine(lat1, lon1, lat2, lon2):\n",
    "    R = 6371  # Raggio della Terra in km\n",
    "    phi1, phi2 = np.radians(lat1), np.radians(lat2)\n",
    "    dphi = np.radians(lat2 - lat1)\n",
    "    dlambda = np.radians(lon1 - lon2)\n",
    "    a = np.sin(dphi / 2) ** 2 + np.cos(phi1) * np.cos(phi2) * np.sin(dlambda / 2) ** 2\n",
    "    c = 2 * np.arctan2(np.sqrt(a), np.sqrt(1 - a))\n",
    "    return R * c"
   ]
  },
  {
   "cell_type": "code",
   "execution_count": 40,
   "metadata": {},
   "outputs": [
    {
     "name": "stdout",
     "output_type": "stream",
     "text": [
      "Il punto medio per le Longitudini è: 32.46667\n"
     ]
    },
    {
     "data": {
      "text/html": [
       "<div>\n",
       "<style scoped>\n",
       "    .dataframe tbody tr th:only-of-type {\n",
       "        vertical-align: middle;\n",
       "    }\n",
       "\n",
       "    .dataframe tbody tr th {\n",
       "        vertical-align: top;\n",
       "    }\n",
       "\n",
       "    .dataframe thead th {\n",
       "        text-align: right;\n",
       "    }\n",
       "</style>\n",
       "<table border=\"1\" class=\"dataframe\">\n",
       "  <thead>\n",
       "    <tr style=\"text-align: right;\">\n",
       "      <th></th>\n",
       "      <th>id</th>\n",
       "      <th>event-id</th>\n",
       "      <th>lat</th>\n",
       "      <th>long</th>\n",
       "      <th>mod</th>\n",
       "      <th>Origine</th>\n",
       "      <th>Distance_to_mean</th>\n",
       "    </tr>\n",
       "  </thead>\n",
       "  <tbody>\n",
       "    <tr>\n",
       "      <th>0</th>\n",
       "      <td>91733A</td>\n",
       "      <td>1082636186</td>\n",
       "      <td>54.18600</td>\n",
       "      <td>7.91883</td>\n",
       "      <td>OLFAC</td>\n",
       "      <td>Helgoland</td>\n",
       "      <td>-1589.166955</td>\n",
       "    </tr>\n",
       "    <tr>\n",
       "      <th>1</th>\n",
       "      <td>91733A</td>\n",
       "      <td>1082636187</td>\n",
       "      <td>54.18567</td>\n",
       "      <td>7.91917</td>\n",
       "      <td>OLFAC</td>\n",
       "      <td>Helgoland</td>\n",
       "      <td>-1589.157919</td>\n",
       "    </tr>\n",
       "    <tr>\n",
       "      <th>2</th>\n",
       "      <td>91733A</td>\n",
       "      <td>1082636188</td>\n",
       "      <td>54.18533</td>\n",
       "      <td>7.91500</td>\n",
       "      <td>OLFAC</td>\n",
       "      <td>Helgoland</td>\n",
       "      <td>-1589.438260</td>\n",
       "    </tr>\n",
       "    <tr>\n",
       "      <th>3</th>\n",
       "      <td>91733A</td>\n",
       "      <td>1082636189</td>\n",
       "      <td>54.18583</td>\n",
       "      <td>7.91917</td>\n",
       "      <td>OLFAC</td>\n",
       "      <td>Helgoland</td>\n",
       "      <td>-1589.151737</td>\n",
       "    </tr>\n",
       "    <tr>\n",
       "      <th>4</th>\n",
       "      <td>91733A</td>\n",
       "      <td>1082636190</td>\n",
       "      <td>54.33383</td>\n",
       "      <td>8.64117</td>\n",
       "      <td>OLFAC</td>\n",
       "      <td>Helgoland</td>\n",
       "      <td>-1537.311976</td>\n",
       "    </tr>\n",
       "  </tbody>\n",
       "</table>\n",
       "</div>"
      ],
      "text/plain": [
       "       id    event-id       lat     long    mod    Origine  Distance_to_mean\n",
       "0  91733A  1082636186  54.18600  7.91883  OLFAC  Helgoland      -1589.166955\n",
       "1  91733A  1082636187  54.18567  7.91917  OLFAC  Helgoland      -1589.157919\n",
       "2  91733A  1082636188  54.18533  7.91500  OLFAC  Helgoland      -1589.438260\n",
       "3  91733A  1082636189  54.18583  7.91917  OLFAC  Helgoland      -1589.151737\n",
       "4  91733A  1082636190  54.33383  8.64117  OLFAC  Helgoland      -1537.311976"
      ]
     },
     "execution_count": 40,
     "metadata": {},
     "output_type": "execute_result"
    }
   ],
   "source": [
    "# Utilizziamo come traiettoria migratoria la mediana delle Longitudini\n",
    "long_traiettoria_migratoria = merged['long'].median()\n",
    "print(\"Il punto medio per le Longitudini è:\", long_traiettoria_migratoria)\n",
    "\n",
    "# Calcola la distanza tra ciascun punto e la long media, tenendo conto del segno\n",
    "merged['Distance_to_mean'] = merged.apply(lambda row: haversine(\n",
    "    row['lat'], row['long'],\n",
    "    row['lat'], long_traiettoria_migratoria\n",
    ") * (-1 if row['long'] < long_traiettoria_migratoria else 1), axis=1)\n",
    "merged.head()"
   ]
  },
  {
   "cell_type": "code",
   "execution_count": 47,
   "metadata": {},
   "outputs": [
    {
     "name": "stdout",
     "output_type": "stream",
     "text": [
      "     Origine      lat  Distance_mean  Distance_std\n",
      "0  Helgoland -1.78617     -32.879923           NaN\n",
      "1  Helgoland -1.75700     -71.316903           NaN\n",
      "2  Helgoland -1.75467     -72.336171           NaN\n",
      "3  Helgoland -1.74483     -66.871631           NaN\n",
      "4  Helgoland -1.74417     -66.834977           NaN\n",
      "     Origine      lat  long_mean\n",
      "0  Helgoland -1.78617   32.17083\n",
      "1  Helgoland -1.75700   31.82500\n",
      "2  Helgoland -1.75467   31.81583\n",
      "3  Helgoland -1.74483   31.86500\n",
      "4  Helgoland -1.74417   31.86533\n"
     ]
    }
   ],
   "source": [
    "# Calcola le distanze medie per lat e tipologia di uccello\n",
    "grouped = merged.groupby(['Origine', 'lat']).agg(\n",
    "    Distance_mean=('Distance_to_mean', 'mean'),\n",
    "    Distance_std=('Distance_to_mean', 'std')\n",
    ").reset_index()\n",
    "print(grouped.head())\n",
    "\n",
    "# Calcola i punti medi per ciascuna lat\n",
    "mean_points = merged.groupby(['Origine', 'lat']).agg(\n",
    "    long_mean=('long', 'mean')\n",
    ").reset_index()\n",
    "print(mean_points.head())"
   ]
  },
  {
   "cell_type": "code",
   "execution_count": 45,
   "metadata": {},
   "outputs": [
    {
     "data": {
      "text/html": [
       "<div>\n",
       "<style scoped>\n",
       "    .dataframe tbody tr th:only-of-type {\n",
       "        vertical-align: middle;\n",
       "    }\n",
       "\n",
       "    .dataframe tbody tr th {\n",
       "        vertical-align: top;\n",
       "    }\n",
       "\n",
       "    .dataframe thead th {\n",
       "        text-align: right;\n",
       "    }\n",
       "</style>\n",
       "<table border=\"1\" class=\"dataframe\">\n",
       "  <thead>\n",
       "    <tr style=\"text-align: right;\">\n",
       "      <th></th>\n",
       "      <th>Origine</th>\n",
       "      <th>lat</th>\n",
       "      <th>Longitudine_mean</th>\n",
       "    </tr>\n",
       "  </thead>\n",
       "  <tbody>\n",
       "    <tr>\n",
       "      <th>0</th>\n",
       "      <td>Helgoland</td>\n",
       "      <td>-1.78617</td>\n",
       "      <td>32.17083</td>\n",
       "    </tr>\n",
       "    <tr>\n",
       "      <th>1</th>\n",
       "      <td>Helgoland</td>\n",
       "      <td>-1.75700</td>\n",
       "      <td>31.82500</td>\n",
       "    </tr>\n",
       "    <tr>\n",
       "      <th>2</th>\n",
       "      <td>Helgoland</td>\n",
       "      <td>-1.75467</td>\n",
       "      <td>31.81583</td>\n",
       "    </tr>\n",
       "    <tr>\n",
       "      <th>3</th>\n",
       "      <td>Helgoland</td>\n",
       "      <td>-1.74483</td>\n",
       "      <td>31.86500</td>\n",
       "    </tr>\n",
       "    <tr>\n",
       "      <th>4</th>\n",
       "      <td>Helgoland</td>\n",
       "      <td>-1.74417</td>\n",
       "      <td>31.86533</td>\n",
       "    </tr>\n",
       "  </tbody>\n",
       "</table>\n",
       "</div>"
      ],
      "text/plain": [
       "     Origine      lat  Longitudine_mean\n",
       "0  Helgoland -1.78617          32.17083\n",
       "1  Helgoland -1.75700          31.82500\n",
       "2  Helgoland -1.75467          31.81583\n",
       "3  Helgoland -1.74483          31.86500\n",
       "4  Helgoland -1.74417          31.86533"
      ]
     },
     "execution_count": 45,
     "metadata": {},
     "output_type": "execute_result"
    }
   ],
   "source": []
  },
  {
   "cell_type": "code",
   "execution_count": null,
   "metadata": {},
   "outputs": [],
   "source": [
    "\n",
    "\n",
    "# Creazione del grafico\n",
    "fig, ax = plt.subplots(figsize=(14, 7))\n",
    "#fig.suptitle('Distanze Medie degli Uccelli Traslocati dal Corridoio Migratorio', fontsize=16)\n",
    "#vedere se aggiungere colonna per olfatto\n",
    "'''\n",
    "color_map = {\n",
    "    'Uccelli di controllo': 'blue',\n",
    "    'Uccelli con sezione del nervo trigemino': 'green',\n",
    "    'Uccelli con sezione del nervo olfattivo': 'red'\n",
    "}'''\n",
    "\n",
    "for origine in ['Helgoland', 'Kazan']:\n",
    "    temp_df = grouped[grouped['Origine'] == origine]\n",
    "    mean_df = mean_points[mean_points['Origine'] == origine]\n",
    "\n",
    "    # Traccia le linee per tutti i punti\n",
    "    for bird_type in temp_df['Tipologia di uccello'].unique():\n",
    "        bird_df = temp_df[temp_df['Tipologia di uccello'] == bird_type]\n",
    "        ax.errorbar(bird_df['Distance_mean'], bird_df['lat'],\n",
    "                    xerr=bird_df['Distance_std'], fmt='-o', label=f'{origine} - {bird_type}' )\n",
    "\n",
    "    # Traccia i punti medi per ciascuna lat\n",
    "    ax.scatter(mean_df['Longitudine_mean'], mean_df['lat'], label=f'{origine} - Punti medi', s=100)\n",
    "\n",
    "ax.axvline(x=0, color='green', linestyle='--')  # Linea verticale mediana\n",
    "ax.set_xlabel('Distanza dal corridoio migratorio (km)')\n",
    "ax.set_ylabel('lat')\n",
    "ax.legend()"
   ]
  }
 ],
 "metadata": {
  "kernelspec": {
   "display_name": "Python 3 (ipykernel)",
   "language": "python",
   "name": "python3"
  },
  "language_info": {
   "codemirror_mode": {
    "name": "ipython",
    "version": 3
   },
   "file_extension": ".py",
   "mimetype": "text/x-python",
   "name": "python",
   "nbconvert_exporter": "python",
   "pygments_lexer": "ipython3",
   "version": "3.11.2"
  }
 },
 "nbformat": 4,
 "nbformat_minor": 4
}
