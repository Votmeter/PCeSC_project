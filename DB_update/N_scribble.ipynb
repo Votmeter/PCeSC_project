{
 "cells": [
  {
   "cell_type": "markdown",
   "metadata": {},
   "source": [
    "imprelement the early format to the db firestore"
   ]
  },
  {
   "cell_type": "code",
   "execution_count": 3,
   "metadata": {},
   "outputs": [
    {
     "data": {
      "text/plain": [
       "'OK'"
      ]
     },
     "execution_count": 3,
     "metadata": {},
     "output_type": "execute_result"
    }
   ],
   "source": [
    "from google.cloud import firestore\n",
    "import json\n",
    "\n",
    "db = 'tesinapcesc'\n",
    "db = firestore.Client.from_service_account_json(\"../keys/nico_pk.json\",\n",
    "                                                 database = db)\n",
    "'OK'"
   ]
  },
  {
   "cell_type": "code",
   "execution_count": 20,
   "metadata": {},
   "outputs": [],
   "source": [
    "locolls = [0,1,2]\n",
    "lodocs = [['a', 'b', 'c'],['d', 'e', 'f'],['g', 'h', 'i']]\n",
    "locoords = [[[0, 0], [1, 1], [2, 2]], [[3, 3], [4, 4], [5, 5]], [[6, 6], [7, 7], [8, 8]]]\n",
    "for coll in range(len(locolls)):\n",
    "    # Convert the collection identifier to a string\n",
    "    collection_id = str(locolls[coll])\n",
    "    \n",
    "    # Loop through each document in the current collection\n",
    "    for doc in range(len(lodocs[coll])):\n",
    "        # Create a reference to the current document in Firestore\n",
    "        doc_ref = db.collection(collection_id).document(lodocs[coll][doc])\n",
    "        \n",
    "        # Prepare the data to be stored in Firestore\n",
    "        x = {\n",
    "            \"lat\": locoords[coll][doc][0],\n",
    "            \"long\": locoords[coll][doc][1]\n",
    "        }\n",
    "        \n",
    "        # Set the data in Firestore for the current document\n",
    "        doc_ref.set(x)\n",
    "\n",
    "        "
   ]
  },
  {
   "cell_type": "markdown",
   "metadata": {},
   "source": [
    "New hypothetical format"
   ]
  },
  {
   "cell_type": "code",
   "execution_count": null,
   "metadata": {},
   "outputs": [],
   "source": [
    "from google.cloud import firestore\n",
    "import json\n",
    "\n",
    "db = 'tesinapcesc'\n",
    "db = firestore.Client.from_service_account_json(\"../keys/nico_pk.json\",\n",
    "                                                 database = db)"
   ]
  },
  {
   "cell_type": "code",
   "execution_count": null,
   "metadata": {},
   "outputs": [],
   "source": [
    "coll = \"gps\"\n",
    "lodocs = ['a', 'b', 'c']\n",
    "\n",
    "for coll in range(len(locolls)):\n",
    "    # Convert the collection identifier to a string\n",
    "    collection_id = str(locolls[coll])\n",
    "    \n",
    "    # Loop through each document in the current collection\n",
    "    for doc in range(len(lodocs[coll])):\n",
    "        # Create a reference to the current document in Firestore\n",
    "        doc_ref = db.collection(collection_id).document(lodocs[coll][doc])\n",
    "        \n",
    "        # Prepare the data to be stored in Firestore\n",
    "        x = {\n",
    "            \"lat\": locoords[coll][doc][0],\n",
    "            \"long\": locoords[coll][doc][1]\n",
    "        }\n",
    "        \n",
    "        # Set the data in Firestore for the current document\n",
    "        doc_ref.set(x)"
   ]
  },
  {
   "cell_type": "code",
   "execution_count": 2,
   "metadata": {},
   "outputs": [
    {
     "data": {
      "text/plain": [
       "(89869, 4)"
      ]
     },
     "execution_count": 2,
     "metadata": {},
     "output_type": "execute_result"
    }
   ],
   "source": [
    "import pandas as pd\n",
    "import numpy as np\n",
    "\n",
    "\n",
    "gps = pd.read_csv(\"../document/gps_Updated.csv\",index_col=0)\n",
    "# gps = gps.loc[:, [\"individual-local-identifier\", \n",
    "#                   \"individual-taxon-canonical-name\", \n",
    "#                   \"sensor-type\", \n",
    "#                   \"location-long\", \n",
    "                #   \"location-lat\"]]\n",
    "gps = gps.drop(columns='event-id')\n",
    "gps.rename(columns={\n",
    "    'timestamp': 'time',\n",
    "    'location-long': 'long',\n",
    "    'location-lat': 'lat',\n",
    "    'individual-local-identifier': 'animal-id'\n",
    "}, inplace=True)\n",
    "gps.shape\n"
   ]
  },
  {
   "cell_type": "code",
   "execution_count": 3,
   "metadata": {},
   "outputs": [
    {
     "data": {
      "text/plain": [
       "(127, 2)"
      ]
     },
     "execution_count": 3,
     "metadata": {},
     "output_type": "execute_result"
    }
   ],
   "source": [
    "rd = pd.read_csv(\"../document/reference-data.csv\")\n",
    "rd = rd.loc[:, ['animal-id', 'manipulation-comments']]\n",
    "rd.shape"
   ]
  },
  {
   "cell_type": "code",
   "execution_count": 4,
   "metadata": {},
   "outputs": [],
   "source": [
    "merged_df = pd.merge(gps, rd, on='animal-id', how='inner')\n",
    "\n",
    "# Supponendo che il DataFrame merged_df sia il risultato del merge tra gps e rd\n",
    "merged_df['coordinates'] = merged_df.apply(lambda row: [row['lat'], row['long']], axis=1)\n",
    "merged_df = merged_df.drop(columns=['lat', 'long'])\n",
    "merged_df.rename(columns={\n",
    "    'animal-id': 'id',\n",
    "    'manipulation-comments': 'comments',\n",
    "}, inplace=True)\n",
    "merged_df = merged_df.loc[:,['id', 'time', 'coordinates', 'comments']]"
   ]
  },
  {
   "cell_type": "code",
   "execution_count": 6,
   "metadata": {},
   "outputs": [
    {
     "data": {
      "text/plain": [
       "(89869, 4)"
      ]
     },
     "execution_count": 6,
     "metadata": {},
     "output_type": "execute_result"
    }
   ],
   "source": [
    "merged_df.shape\n"
   ]
  }
 ],
 "metadata": {
  "kernelspec": {
   "display_name": "Python 3 (ipykernel)",
   "language": "python",
   "name": "python3"
  },
  "language_info": {
   "codemirror_mode": {
    "name": "ipython",
    "version": 3
   },
   "file_extension": ".py",
   "mimetype": "text/x-python",
   "name": "python",
   "nbconvert_exporter": "python",
   "pygments_lexer": "ipython3",
   "version": "3.11.2"
  }
 },
 "nbformat": 4,
 "nbformat_minor": 4
}
